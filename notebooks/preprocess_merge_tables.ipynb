{
 "cells": [
  {
   "cell_type": "code",
   "execution_count": 1,
   "metadata": {
    "collapsed": true
   },
   "outputs": [],
   "source": [
    "import pandas as pd"
   ]
  },
  {
   "cell_type": "code",
   "execution_count": 2,
   "metadata": {
    "collapsed": true
   },
   "outputs": [],
   "source": [
    "path =\"data.xlsx\"\n",
    "#interventions_df = pd.read_csv(\"interventions.tsv\",sep='\\t',index_col=0 )\n",
    "#outputs_df = pd.read_csv(\"outputs.tsv\",sep='\\t',index_col=0)\n",
    "#individuals_df = pd.read_csv(\"individuals.tsv\",sep='\\t',index_col=[0,1,2],header=[0,1] )\n",
    "#groups_df = pd.read_csv(\"groups.tsv\",sep='\\t',index_col=[0,1,2],header=[0,1] )\n",
    "#subjects_df = pd.read_csv(\"all_subjects.tsv\",sep='\\t',index_col=[0,1,2,3],header=[0,1] )\n",
    "interventions_df = pd.read_excel(path,sheet_name=\"interventions\",index_col=[0,1,3])\n",
    "outputs_df = pd.read_excel(path,sheet_name=\"outputs\",index_col=[0,1])\n",
    "timecourses_df = pd.read_excel(path,sheet_name=\"timecourses\",index_col=[0,1])\n",
    "individuals_df = pd.read_excel(path,sheet_name=\"individuals\",index_col=[0,1,2],header=[0,1])\n",
    "groups_df = pd.read_excel(path,sheet_name=\"groups\",index_col=[0,1,2],header=[0,1])"
   ]
  },
  {
   "cell_type": "code",
   "execution_count": 3,
   "metadata": {},
   "outputs": [
    {
     "name": "stdout",
     "output_type": "stream",
     "text": [
      "--------------------------------------------------------------------------------\n",
      "PKPD data (2088)\n",
      "--------------------------------------------------------------------------------\n",
      "50     auc_end             ['mg*h/l', 'ng*h/ml', 'µg*h/ml', 'µg/ml*h']\n",
      "169    auc_inf             ['mg*h/l', 'ng*h/ml', 'nmol*h/l', 'µg*h/ml', 'µg*min/ml', 'µg/ml*h', 'µmol*h/l', 'µmol/l*h']\n",
      "500    clearance           ['ml/min', 'ml/min/1.73m^2', 'ml/min/kg']\n",
      "22     clearance_renal     ['ml/min']\n",
      "5      clearance_unbound   ['ml/min/kg']\n",
      "106    cmax                ['ng/ml', 'nmol/l', 'µg/ml', 'µmol/l']\n",
      "80     concentration       ['µg/ml']\n",
      "1      fraction_absorbed   ['-']\n",
      "5      kabs                ['1/h']\n",
      "110    kel                 ['1/h']\n",
      "5      plasma_binding      ['-']\n",
      "279    ratio               ['-']\n",
      "104    recovery            ['%', '-']\n",
      "359    thalf               ['h']\n",
      "93     tmax                ['h']\n",
      "200    vd                  ['l', 'l/kg']\n",
      "--------------------------------------------------------------------------------\n"
     ]
    }
   ],
   "source": [
    "def convert_unit(df, unit_in, unit_out, factor=1.0, \n",
    "                 unit_field=\"unit\", data_fields=['mean','median','value', 'sd', 'se', 'min', 'max'], inplace=True, subset=False):\n",
    "    \"\"\" Unit conversion in given data frame. \"\"\"\n",
    "    if not inplace:\n",
    "        df = df.copy()\n",
    "    if subset:\n",
    "        is_weightidx =  df[subset].notnull()\n",
    "        df =  df[is_weightidx]     \n",
    "    if isinstance(factor, pd.Series):\n",
    "        factor = factor[is_weightidx]\n",
    "        \n",
    "        \n",
    "    idx = (df[unit_field] == unit_in)\n",
    "    \n",
    "\n",
    "    for key in data_fields:\n",
    "        df.loc[idx, key] = df.loc[idx, key]*factor\n",
    "    df.loc[idx, unit_field] = unit_out\n",
    "    \n",
    "    if subset:\n",
    "        return df[idx]\n",
    "    \n",
    "    return df\n",
    "    \n",
    "\n",
    "# thalf & tmax [min] -> [h]\n",
    "convert_unit(outputs_df, unit_in='min', unit_out='h', factor=1/60.0)\n",
    "# cmax [mg/l] -> [µg/ml]\n",
    "convert_unit(outputs_df, unit_in='mg/l', unit_out='µg/ml', factor=1.0)\n",
    "\n",
    "# clearance ['ml/h/kg'] -> ['ml/min/kg']\n",
    "convert_unit(outputs_df, unit_in='ml/h/kg', unit_out='ml/min/kg', factor=1/60.0)\n",
    "convert_unit(outputs_df, unit_in='l/h/kg', unit_out='ml/min/kg', factor=1000/60.0)\n",
    "convert_unit(outputs_df, unit_in='l/h', unit_out='ml/min', factor=1000.0/60)\n",
    "\n",
    "# auc ['mg/l*min'] -> ['mg/l*h']\n",
    "convert_unit(outputs_df, unit_in='mg/l*min', unit_out='mg/l*h', factor=1/60.0)\n",
    "\n",
    "# auc ['mg/l*h'] -> ['µg/ml*h']\n",
    "#convert_unit(outputs_df, unit_in='mg/l*h', unit_out='µg/ml*h', factor=1.0)\n",
    "# overview of units for given pktype\n",
    "pktypes = sorted(outputs_df.pktype.unique())\n",
    "print('-'*80)\n",
    "print('PKPD data ({})'.format(len(outputs_df)))\n",
    "print('-'*80)\n",
    "for pktype in pktypes:\n",
    "    data = outputs_df[outputs_df.pktype==pktype]\n",
    "    print('{:<6} {:<20}{}'.format(len(data), pktype, sorted(data.unit.unique())))\n",
    "print('-'*80)"
   ]
  },
  {
   "cell_type": "code",
   "execution_count": 4,
   "metadata": {},
   "outputs": [
    {
     "name": "stdout",
     "output_type": "stream",
     "text": [
      "2088 pkpd outputs\n",
      "2088 merge interventions\n",
      "1438 merge individuals\n",
      "650 merge groups\n",
      "2088 both\n"
     ]
    },
    {
     "name": "stderr",
     "output_type": "stream",
     "text": [
      "/home/janekg89/Envs/pkdb_analysis/lib/python3.6/site-packages/pandas/core/reshape/merge.py:544: UserWarning: merging between different levels can give an unintended result (1 levels on the left, 2 on the right)\n",
      "  warnings.warn(msg, UserWarning)\n"
     ]
    }
   ],
   "source": [
    "print(len(outputs_df), 'pkpd outputs')\n",
    "# merge with dose information\n",
    "pk = pd.merge(left=outputs_df, right=interventions_df,  how='inner', suffixes=('','_intervention'),left_on='interventions', right_on=\"pk\")\n",
    "print(len(pk), 'merge interventions')\n",
    "\n",
    "# merge with subject information\n",
    "pk_i = pd.merge(pk,individuals_df.reset_index(),  how='inner', suffixes=('','individual'),left_on='individual_pk', right_on=\"subject_pk\")\n",
    "pk_g = pd.merge(pk,groups_df.reset_index(),  how='inner', suffixes=('','group'),left_on='group_pk', right_on=\"subject_pk\")\n",
    "print(len(pk_i), 'merge individuals')\n",
    "print(len(pk_g), 'merge groups')\n",
    "print(len(pk_i)+len(pk_g), 'both')"
   ]
  },
  {
   "cell_type": "markdown",
   "metadata": {},
   "source": [
    "All males donot take oral conraceptives"
   ]
  },
  {
   "cell_type": "code",
   "execution_count": 5,
   "metadata": {
    "collapsed": true
   },
   "outputs": [],
   "source": [
    "individuals_df.loc[(individuals_df[\"sex\"][\"choice\"] == \"M\"),(\"oral contraceptives\",\"choice\")] = \"N\"\n",
    "groups_df.loc[(groups_df[\"sex\"][\"choice\"] == \"M\"),(\"oral contraceptives\",\"choice\")] = \"N\""
   ]
  },
  {
   "cell_type": "markdown",
   "metadata": {
    "collapsed": true
   },
   "source": [
    "## Merging datasets"
   ]
  },
  {
   "cell_type": "code",
   "execution_count": 6,
   "metadata": {},
   "outputs": [
    {
     "name": "stdout",
     "output_type": "stream",
     "text": [
      "2088 pkpd outputs\n",
      "2088 merged outputs and interventions\n",
      "1438 merged outputs and individuals\n",
      "650 merged outputs and groups\n",
      "2088 both\n"
     ]
    }
   ],
   "source": [
    "print(len(outputs_df), 'pkpd outputs')\n",
    "# merge with dose information\n",
    "pk = pd.merge(left=outputs_df, right=interventions_df,  how='inner', suffixes=('','_intervention'),left_on='interventions', right_on=\"pk\")\n",
    "print(len(pk), 'merged outputs and interventions')\n",
    "\n",
    "# merge with subject information\n",
    "pk_i = pd.merge(pk,individuals_df.reset_index(),  how='inner', suffixes=('','individual'),left_on='individual_pk', right_on=\"subject_pk\")\n",
    "pk_g = pd.merge(pk,groups_df.reset_index(),  how='inner', suffixes=('','group'),left_on='group_pk', right_on=\"subject_pk\")\n",
    "print(len(pk_i), 'merged outputs and individuals')\n",
    "print(len(pk_g), 'merged outputs and groups')\n",
    "print(len(pk_i)+len(pk_g), 'both')"
   ]
  },
  {
   "cell_type": "markdown",
   "metadata": {},
   "source": [
    "## Adding:  Recalculated data (inteventions relative to weight and absolute, outputs relative to weight and absolute)"
   ]
  },
  {
   "cell_type": "markdown",
   "metadata": {},
   "source": [
    "for individuals"
   ]
  },
  {
   "cell_type": "code",
   "execution_count": 7,
   "metadata": {},
   "outputs": [
    {
     "name": "stdout",
     "output_type": "stream",
     "text": [
      "Number of recalcualted measurements with intervention unit  mg and bodyweight: 654\n",
      "Number of recalcualted measurements with intervention unit  mg/kg and bodyweight: 97\n",
      "added to remaining: 2189\n"
     ]
    },
    {
     "name": "stderr",
     "output_type": "stream",
     "text": [
      "/home/janekg89/Envs/pkdb_analysis/lib/python3.6/site-packages/pandas/core/indexing.py:543: SettingWithCopyWarning: \n",
      "A value is trying to be set on a copy of a slice from a DataFrame.\n",
      "Try using .loc[row_indexer,col_indexer] = value instead\n",
      "\n",
      "See the caveats in the documentation: http://pandas.pydata.org/pandas-docs/stable/indexing.html#indexing-view-versus-copy\n",
      "  self.obj[item] = s\n"
     ]
    },
    {
     "name": "stdout",
     "output_type": "stream",
     "text": [
      "Number of recalcualted measurements with output unit ml/min and bodyweight: 60\n",
      "Number of recalcualted measurements with output unit ml/min/kg and bodyweight 350\n",
      "added to remaining: 2599\n"
     ]
    }
   ],
   "source": [
    "pk_i_realtive = convert_unit(pk_i,\n",
    "                             unit_in=\"mg\",\n",
    "                             unit_out=\"mg/kg\", \n",
    "                             factor=1.0/pk_i[(\"weight\",\"value\")],\n",
    "                             unit_field=\"unit_intervention\", \n",
    "                             data_fields=['value_intervention'], \n",
    "                             subset=(\"weight\",\"value\"))\n",
    "\n",
    "print(\"Number of recalcualted measurements with intervention unit  mg and bodyweight:\" ,len(pk_i_realtive))\n",
    "\n",
    "pk_i_absolute = convert_unit(pk_i,\n",
    "                             unit_in=\"mg/kg\",\n",
    "                             unit_out=\"mg\", \n",
    "                             factor=pk_i[(\"weight\",\"value\")],\n",
    "                             unit_field=\"unit_intervention\", \n",
    "                             data_fields=['value_intervention'],\n",
    "                             subset=(\"weight\",\"value\"))\n",
    "\n",
    "print(\"Number of recalcualted measurements with intervention unit  mg/kg and bodyweight:\" ,len(pk_i_absolute))\n",
    "\n",
    "pk_i = pd.concat([pk_i,pk_i_realtive,pk_i_absolute], ignore_index=True)\n",
    "\n",
    "print(\"added to remaining:\" ,len(pk_i))\n",
    "\n",
    "pk_i_realtive = convert_unit(pk_i,\n",
    "                             unit_in=\"ml/min\",\n",
    "                             unit_out=\"ml/min/kg\", \n",
    "                             factor=1.0/pk_i[(\"weight\",\"value\")],\n",
    "                             unit_field=\"unit\", \n",
    "                             data_fields=['value'], \n",
    "                             subset=(\"weight\",\"value\"))\n",
    "\n",
    "print(\"Number of recalcualted measurements with output unit ml/min and bodyweight:\" ,len(pk_i_realtive))\n",
    "\n",
    "pk_i_absolute = convert_unit(pk_i,\n",
    "                             unit_in=\"ml/min/kg\",\n",
    "                             unit_out=\"ml/min\", \n",
    "                             factor=pk_i[(\"weight\",\"value\")],\n",
    "                             unit_field=\"unit\", \n",
    "                             data_fields=['value'],\n",
    "                             subset=(\"weight\",\"value\"))\n",
    "\n",
    "print(\"Number of recalcualted measurements with output unit ml/min/kg and bodyweight\" ,len(pk_i_absolute))\n",
    "\n",
    "pk_i = pd.concat([pk_i,pk_i_realtive,pk_i_absolute], ignore_index=True)\n",
    "print(\"added to remaining:\" ,len(pk_i))"
   ]
  },
  {
   "cell_type": "markdown",
   "metadata": {},
   "source": [
    "for groups"
   ]
  },
  {
   "cell_type": "code",
   "execution_count": 8,
   "metadata": {},
   "outputs": [
    {
     "name": "stdout",
     "output_type": "stream",
     "text": [
      "Number of recalcualted measurements with intervention unit  mg and bodyweight: 186\n",
      "Number of recalcualted measurements with intervention unit  mg/kg and bodyweight: 213\n",
      "added to remaining: 1049\n",
      "Number of recalcualted measurements with output unit ml/min and bodyweight: 40\n",
      "Number of recalcualted measurements with output unit ml/min/kg and bodyweight: 68\n",
      "added to remaining: 1157\n"
     ]
    }
   ],
   "source": [
    "pk_g_realtive = convert_unit(pk_g,\n",
    "                             unit_in=\"mg\",\n",
    "                             unit_out=\"mg/kg\", \n",
    "                             factor=1.0/pk_g[(\"weight\",\"mean\")],\n",
    "                             unit_field=\"unit_intervention\", \n",
    "                             data_fields=['value_intervention'], \n",
    "                             subset=(\"weight\",\"mean\"))\n",
    "\n",
    "print(\"Number of recalcualted measurements with intervention unit  mg and bodyweight:\" ,len(pk_g_realtive))\n",
    "\n",
    "pk_g_absolute = convert_unit(pk_g,\n",
    "                             unit_in=\"mg/kg\",\n",
    "                             unit_out=\"mg\", \n",
    "                             factor=pk_g[(\"weight\",\"mean\")],\n",
    "                             unit_field=\"unit_intervention\", \n",
    "                             data_fields=['value_intervention'],\n",
    "                             subset=(\"weight\",\"mean\"))\n",
    "print(\"Number of recalcualted measurements with intervention unit  mg/kg and bodyweight:\" ,len(pk_g_absolute))\n",
    "\n",
    "pk_g = pd.concat([pk_g,pk_g_realtive,pk_g_absolute], ignore_index=True)\n",
    "print(\"added to remaining:\" ,len(pk_g))\n",
    "\n",
    "pk_g_realtive = convert_unit(pk_g,\n",
    "                             unit_in=\"ml/min\",\n",
    "                             unit_out=\"ml/min/kg\", \n",
    "                             factor=1.0/pk_g[(\"weight\",\"mean\")],\n",
    "                             unit_field=\"unit\", \n",
    "                             subset=(\"weight\",\"mean\"))\n",
    "\n",
    "print(\"Number of recalcualted measurements with output unit ml/min and bodyweight:\" ,len(pk_g_realtive))\n",
    "\n",
    "pk_g_absolute = convert_unit(pk_g,\n",
    "                             unit_in=\"ml/min/kg\",\n",
    "                             unit_out=\"ml/min\", \n",
    "                             factor=pk_g[(\"weight\",\"mean\")],\n",
    "                             unit_field=\"unit\", \n",
    "                             subset=(\"weight\",\"mean\"))\n",
    "print(\"Number of recalcualted measurements with output unit ml/min/kg and bodyweight:\" ,len(pk_g_absolute))\n",
    "\n",
    "pk_g = pd.concat([pk_g,pk_g_realtive,pk_g_absolute], ignore_index=True)\n",
    "print(\"added to remaining:\" ,len(pk_g))"
   ]
  },
  {
   "cell_type": "code",
   "execution_count": 9,
   "metadata": {
    "collapsed": true
   },
   "outputs": [],
   "source": [
    "from openpyxl import load_workbook\n",
    "\n",
    "book = load_workbook('data.xlsx')\n",
    "writer = pd.ExcelWriter('data.xlsx')\n",
    "writer.book = book\n",
    "writer.sheets = dict((ws.title, ws) for ws in book.worksheets)\n",
    "\n",
    "pk_i.to_excel(writer,\"complete_for_individuals\")\n",
    "\n",
    "pk_g.to_excel(writer,\"complete_for_groups\")\n",
    "\n",
    "writer.save()\n",
    "writer.close()"
   ]
  },
  {
   "cell_type": "code",
   "execution_count": 10,
   "metadata": {
    "collapsed": true
   },
   "outputs": [],
   "source": [
    "pk_i.to_csv(\"complete_for_individuals.tsv\", sep=\"\\t\")\n",
    "pk_g.to_csv(\"complete_for_groups.tsv\", sep=\"\\t\")\n"
   ]
  },
  {
   "cell_type": "code",
   "execution_count": null,
   "metadata": {
    "collapsed": true
   },
   "outputs": [],
   "source": []
  },
  {
   "cell_type": "code",
   "execution_count": null,
   "metadata": {
    "collapsed": true
   },
   "outputs": [],
   "source": []
  }
 ],
 "metadata": {
  "kernelspec": {
   "display_name": "pkdb_analysis",
   "language": "python",
   "name": "pkdb_analysis"
  },
  "language_info": {
   "codemirror_mode": {
    "name": "ipython",
    "version": 3
   },
   "file_extension": ".py",
   "mimetype": "text/x-python",
   "name": "python",
   "nbconvert_exporter": "python",
   "pygments_lexer": "ipython3",
   "version": "3.6.7"
  }
 },
 "nbformat": 4,
 "nbformat_minor": 2
}
