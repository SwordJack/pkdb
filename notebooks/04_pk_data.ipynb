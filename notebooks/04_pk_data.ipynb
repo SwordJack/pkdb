{
 "cells": [
  {
   "cell_type": "code",
   "execution_count": 1,
   "metadata": {
    "collapsed": true
   },
   "outputs": [],
   "source": [
    "import pandas as pd\n",
    "import seaborn as sns\n",
    "import matplotlib.pyplot as plt"
   ]
  },
  {
   "cell_type": "code",
   "execution_count": 2,
   "metadata": {
    "collapsed": true
   },
   "outputs": [],
   "source": [
    "interventions_df = pd.read_csv(\"interventions.tsv\",sep='\\t',index_col=0 )\n",
    "outputs_df = pd.read_csv(\"outputs.tsv\",sep='\\t',index_col=0)\n",
    "individuals_df = pd.read_csv(\"individuals.tsv\",sep='\\t',index_col=[0,1],header=[0,1] )\n",
    "groups_df = pd.read_csv(\"groups.tsv\",sep='\\t',index_col=[0,1],header=[0,1] )\n",
    "subjects_df = pd.read_csv(\"all_subjects.tsv\",sep='\\t',index_col=[0,1,2],header=[0,1] )\n"
   ]
  },
  {
   "cell_type": "code",
   "execution_count": 3,
   "metadata": {},
   "outputs": [
    {
     "name": "stdout",
     "output_type": "stream",
     "text": [
      "--------------------------------------------------------------------------------\n",
      "PKPD data (4932)\n",
      "--------------------------------------------------------------------------------\n",
      "99     auc_end             ['mg*h/l', 'ng*h/ml']\n",
      "498    auc_inf             ['mg*h/l', 'ng*h/ml', 'nmol*h/l', 'pmol/ml*h', 'µg*min/ml', 'µmol*h/l', 'µmol/l*h']\n",
      "999    clearance           ['ml/min', 'ml/min/1.73m^2', 'ml/min/kg']\n",
      "186    clearance_renal     ['ml/min']\n",
      "2      clearance_unbound   ['ml/min/kg']\n",
      "406    cmax                ['ng/ml', 'nmol/l', 'pmol/ml', 'µg/ml', 'µmol/l']\n",
      "295    concentration       ['nmol/l', 'µg/ml']\n",
      "1      fraction_absorbed   ['-']\n",
      "5      kabs                ['1/h']\n",
      "99     kel                 ['1/h']\n",
      "2      plasma_binding      ['-']\n",
      "425    ratio               ['-']\n",
      "594    recovery            ['%', '-']\n",
      "681    thalf               ['h']\n",
      "390    tmax                ['h']\n",
      "250    vd                  ['l', 'l/kg']\n",
      "--------------------------------------------------------------------------------\n"
     ]
    }
   ],
   "source": [
    "def convert_unit(df, unit_in, unit_out, factor=1.0, \n",
    "                 unit_field=\"unit\", data_fields=['mean','median','value', 'sd', 'se', 'min', 'max'], inplace=True, subset=False):\n",
    "    \"\"\" Unit conversion in given data frame. \"\"\"\n",
    "    if not inplace:\n",
    "        df = df.copy()\n",
    "    if subset:\n",
    "        is_weightidx =  df[subset].notnull()\n",
    "        df =  df[is_weightidx]     \n",
    "    if isinstance(factor, pd.Series):\n",
    "        factor = factor[is_weightidx]\n",
    "        \n",
    "        \n",
    "    idx = (df[unit_field] == unit_in)\n",
    "    \n",
    "\n",
    "    for key in data_fields:\n",
    "        df.loc[idx, key] = df.loc[idx, key]*factor\n",
    "    df.loc[idx, unit_field] = unit_out\n",
    "    \n",
    "    if subset:\n",
    "        return df[idx]\n",
    "    \n",
    "    return df\n",
    "    \n",
    "\n",
    "# thalf & tmax [min] -> [h]\n",
    "convert_unit(outputs_df, unit_in='min', unit_out='h', factor=1/60.0)\n",
    "# cmax [mg/l] -> [µg/ml]\n",
    "convert_unit(outputs_df, unit_in='mg/l', unit_out='µg/ml', factor=1.0)\n",
    "# clearance ['ml/h/kg'] -> ['ml/min/kg']\n",
    "convert_unit(outputs_df, unit_in='ml/h/kg', unit_out='ml/min/kg', factor=1/60.0)\n",
    "\n",
    "convert_unit(outputs_df, unit_in='l/h/kg', unit_out='ml/min/kg', factor=1000/60.0)\n",
    "\n",
    "convert_unit(outputs_df, unit_in='l/h', unit_out='ml/min', factor=1000.0/60)\n",
    "\n",
    "# auc ['mg/l*min'] -> ['mg/l*h']\n",
    "convert_unit(outputs_df, unit_in='mg/l*min', unit_out='mg/l*h', factor=1/60.0)\n",
    "# auc ['mg/l*h'] -> ['µg/ml*h']\n",
    "convert_unit(outputs_df, unit_in='mg/l*h', unit_out='µg/ml*h', factor=1.0)\n",
    "# overview of units for given pktype\n",
    "pktypes = sorted(outputs_df.pktype.unique())\n",
    "print('-'*80)\n",
    "print('PKPD data ({})'.format(len(outputs_df)))\n",
    "print('-'*80)\n",
    "for pktype in pktypes:\n",
    "    data = outputs_df[outputs_df.pktype==pktype]\n",
    "    print('{:<6} {:<20}{}'.format(len(data), pktype, sorted(data.unit.unique())))\n",
    "print('-'*80)"
   ]
  },
  {
   "cell_type": "markdown",
   "metadata": {},
   "source": [
    "## Merging datasets"
   ]
  },
  {
   "cell_type": "code",
   "execution_count": 4,
   "metadata": {},
   "outputs": [
    {
     "name": "stdout",
     "output_type": "stream",
     "text": [
      "4932 pkpd outputs\n",
      "4932 merge interventions\n",
      "3378 merge individuals\n",
      "1554 merge groups\n",
      "4932 both\n"
     ]
    },
    {
     "name": "stderr",
     "output_type": "stream",
     "text": [
      "/home/janekg89/Envs/pkdb_analysis/lib/python3.6/site-packages/pandas/core/reshape/merge.py:544: UserWarning: merging between different levels can give an unintended result (1 levels on the left, 2 on the right)\n",
      "  warnings.warn(msg, UserWarning)\n"
     ]
    }
   ],
   "source": [
    "print(len(outputs_df), 'pkpd outputs')\n",
    "# merge with dose information\n",
    "pk = pd.merge(left=outputs_df, right=interventions_df,  how='inner', suffixes=('','_intervention'),left_on='interventions', right_on=\"pk\")\n",
    "print(len(pk), 'merge interventions')\n",
    "\n",
    "# merge with subject information\n",
    "pk_i = pd.merge(pk,individuals_df.reset_index(),  how='inner', suffixes=('','individual'),left_on='individual_pk', right_on=\"subject_pk\")\n",
    "pk_g = pd.merge(pk,groups_df.reset_index(),  how='inner', suffixes=('','group'),left_on='group_pk', right_on=\"subject_pk\")\n",
    "print(len(pk_i), 'merge individuals')\n",
    "print(len(pk_g), 'merge groups')\n",
    "print(len(pk_i)+len(pk_g), 'both')"
   ]
  },
  {
   "cell_type": "code",
   "execution_count": null,
   "metadata": {
    "collapsed": true
   },
   "outputs": [],
   "source": []
  },
  {
   "cell_type": "code",
   "execution_count": 5,
   "metadata": {},
   "outputs": [
    {
     "name": "stdout",
     "output_type": "stream",
     "text": [
      "Number of measurements for individuals with selected criteria: 870\n"
     ]
    }
   ],
   "source": [
    "# filter caffeine clearance healthy\n",
    "#& (pk_i.application == \"single dose\") \\\n",
    "\n",
    "idx = (pk_i.substance_name_intervention == 'caffeine') \\\n",
    "       & (pk_i.substance_name == 'caffeine') \\\n",
    "       & (pk_i[ ('healthy', 'choice')] == 'Y')\\\n",
    "       & (pk_i[ 'tissue'] == 'plasma') \n",
    "\n",
    "    \n",
    "pk_i = pk_i[idx]\n",
    "print(\"Number of measurements for individuals with selected criteria:\" ,len(pk_i))\n"
   ]
  },
  {
   "cell_type": "code",
   "execution_count": 6,
   "metadata": {},
   "outputs": [
    {
     "name": "stderr",
     "output_type": "stream",
     "text": [
      "/home/janekg89/Envs/pkdb_analysis/lib/python3.6/site-packages/pandas/core/indexing.py:543: SettingWithCopyWarning: \n",
      "A value is trying to be set on a copy of a slice from a DataFrame.\n",
      "Try using .loc[row_indexer,col_indexer] = value instead\n",
      "\n",
      "See the caveats in the documentation: http://pandas.pydata.org/pandas-docs/stable/indexing.html#indexing-view-versus-copy\n",
      "  self.obj[item] = s\n"
     ]
    },
    {
     "name": "stdout",
     "output_type": "stream",
     "text": [
      "Number of measurements for individuals with selected criteria: 654\n",
      "Number of measurements for individuals with selected criteria: 0\n",
      "Number of measurements for individuals with selected criteria: 1524\n",
      "Number of measurements for individuals with selected criteria: 96\n",
      "Number of measurements for individuals with selected criteria: 204\n",
      "Number of measurements for individuals with selected criteria: 1824\n"
     ]
    }
   ],
   "source": [
    "pk_i_realtive = convert_unit(pk_i,\n",
    "                             unit_in=\"mg\",\n",
    "                             unit_out=\"mg/kg\", \n",
    "                             factor=1.0/pk_i[(\"weight\",\"value\")],\n",
    "                             unit_field=\"unit_intervention\", \n",
    "                             data_fields=['value_intervention'], \n",
    "                             subset=(\"weight\",\"value\"))\n",
    "\n",
    "print(\"Number of measurements for individuals with selected criteria:\" ,len(pk_i_realtive))\n",
    "\n",
    "pk_i_absolute = convert_unit(pk_i,\n",
    "                             unit_in=\"mg/kg\",\n",
    "                             unit_out=\"mg\", \n",
    "                             factor=pk_i[(\"weight\",\"value\")],\n",
    "                             unit_field=\"unit_intervention\", \n",
    "                             data_fields=['value_intervention'],\n",
    "                             subset=(\"weight\",\"value\"))\n",
    "print(\"Number of measurements for individuals with selected criteria:\" ,len(pk_i_absolute))\n",
    "\n",
    "pk_i = pd.concat([pk_i,pk_i_realtive,pk_i_absolute], ignore_index=True)\n",
    "print(\"Number of measurements for individuals with selected criteria:\" ,len(pk_i))\n",
    "\n",
    "pk_i_realtive = convert_unit(pk_i,\n",
    "                             unit_in=\"ml/min\",\n",
    "                             unit_out=\"ml/min/kg\", \n",
    "                             factor=1.0/pk_i[(\"weight\",\"value\")],\n",
    "                             unit_field=\"unit\", \n",
    "                             data_fields=['value'], \n",
    "                             subset=(\"weight\",\"value\"))\n",
    "\n",
    "print(\"Number of measurements for individuals with selected criteria:\" ,len(pk_i_realtive))\n",
    "\n",
    "pk_i_absolute = convert_unit(pk_i,\n",
    "                             unit_in=\"ml/min/kg\",\n",
    "                             unit_out=\"ml/min\", \n",
    "                             factor=pk_i[(\"weight\",\"value\")],\n",
    "                             unit_field=\"unit\", \n",
    "                             data_fields=['value'],\n",
    "                             subset=(\"weight\",\"value\"))\n",
    "print(\"Number of measurements for individuals with selected criteria:\" ,len(pk_i_absolute))\n",
    "\n",
    "pk_i = pd.concat([pk_i,pk_i_realtive,pk_i_absolute], ignore_index=True)\n",
    "print(\"Number of measurements for individuals with selected criteria:\" ,len(pk_i))"
   ]
  },
  {
   "cell_type": "code",
   "execution_count": 7,
   "metadata": {},
   "outputs": [
    {
     "name": "stdout",
     "output_type": "stream",
     "text": [
      "Number of measurements for individuals with selected criteria: 56\n",
      "Number of measurements for individuals with selected criteria: 0\n",
      "Number of measurements for individuals with selected criteria: 1610\n",
      "Number of measurements for individuals with selected criteria: 96\n"
     ]
    },
    {
     "ename": "IndexingError",
     "evalue": "Unalignable boolean Series provided as indexer (index of the boolean Series and of the indexed object do not match",
     "output_type": "error",
     "traceback": [
      "\u001b[0;31m---------------------------------------------------------------------------\u001b[0m",
      "\u001b[0;31mIndexingError\u001b[0m                             Traceback (most recent call last)",
      "\u001b[0;32m<ipython-input-7-8495a730cee6>\u001b[0m in \u001b[0;36m<module>\u001b[0;34m\u001b[0m\n\u001b[1;32m     35\u001b[0m                              \u001b[0mfactor\u001b[0m\u001b[0;34m=\u001b[0m\u001b[0mpk_i\u001b[0m\u001b[0;34m[\u001b[0m\u001b[0;34m(\u001b[0m\u001b[0;34m\"weight\"\u001b[0m\u001b[0;34m,\u001b[0m\u001b[0;34m\"value\"\u001b[0m\u001b[0;34m)\u001b[0m\u001b[0;34m]\u001b[0m\u001b[0;34m,\u001b[0m\u001b[0;34m\u001b[0m\u001b[0;34m\u001b[0m\u001b[0m\n\u001b[1;32m     36\u001b[0m                              \u001b[0munit_field\u001b[0m\u001b[0;34m=\u001b[0m\u001b[0;34m\"unit\"\u001b[0m\u001b[0;34m,\u001b[0m\u001b[0;34m\u001b[0m\u001b[0;34m\u001b[0m\u001b[0m\n\u001b[0;32m---> 37\u001b[0;31m                              subset=(\"weight\",\"value\"))\n\u001b[0m\u001b[1;32m     38\u001b[0m \u001b[0mprint\u001b[0m\u001b[0;34m(\u001b[0m\u001b[0;34m\"Number of measurements for individuals with selected criteria:\"\u001b[0m \u001b[0;34m,\u001b[0m\u001b[0mlen\u001b[0m\u001b[0;34m(\u001b[0m\u001b[0mpk_i_absolute\u001b[0m\u001b[0;34m)\u001b[0m\u001b[0;34m)\u001b[0m\u001b[0;34m\u001b[0m\u001b[0;34m\u001b[0m\u001b[0m\n\u001b[1;32m     39\u001b[0m \u001b[0;34m\u001b[0m\u001b[0m\n",
      "\u001b[0;32m<ipython-input-3-f1361a035dce>\u001b[0m in \u001b[0;36mconvert_unit\u001b[0;34m(df, unit_in, unit_out, factor, unit_field, data_fields, inplace, subset)\u001b[0m\n\u001b[1;32m      8\u001b[0m         \u001b[0mdf\u001b[0m \u001b[0;34m=\u001b[0m  \u001b[0mdf\u001b[0m\u001b[0;34m[\u001b[0m\u001b[0mis_weightidx\u001b[0m\u001b[0;34m]\u001b[0m\u001b[0;34m\u001b[0m\u001b[0;34m\u001b[0m\u001b[0m\n\u001b[1;32m      9\u001b[0m     \u001b[0;32mif\u001b[0m \u001b[0misinstance\u001b[0m\u001b[0;34m(\u001b[0m\u001b[0mfactor\u001b[0m\u001b[0;34m,\u001b[0m \u001b[0mpd\u001b[0m\u001b[0;34m.\u001b[0m\u001b[0mSeries\u001b[0m\u001b[0;34m)\u001b[0m\u001b[0;34m:\u001b[0m\u001b[0;34m\u001b[0m\u001b[0;34m\u001b[0m\u001b[0m\n\u001b[0;32m---> 10\u001b[0;31m         \u001b[0mfactor\u001b[0m \u001b[0;34m=\u001b[0m \u001b[0mfactor\u001b[0m\u001b[0;34m[\u001b[0m\u001b[0mis_weightidx\u001b[0m\u001b[0;34m]\u001b[0m\u001b[0;34m\u001b[0m\u001b[0;34m\u001b[0m\u001b[0m\n\u001b[0m\u001b[1;32m     11\u001b[0m \u001b[0;34m\u001b[0m\u001b[0m\n\u001b[1;32m     12\u001b[0m \u001b[0;34m\u001b[0m\u001b[0m\n",
      "\u001b[0;32m~/Envs/pkdb_analysis/lib/python3.6/site-packages/pandas/core/series.py\u001b[0m in \u001b[0;36m__getitem__\u001b[0;34m(self, key)\u001b[0m\n\u001b[1;32m    806\u001b[0m \u001b[0;34m\u001b[0m\u001b[0m\n\u001b[1;32m    807\u001b[0m         \u001b[0;32mif\u001b[0m \u001b[0mcom\u001b[0m\u001b[0;34m.\u001b[0m\u001b[0mis_bool_indexer\u001b[0m\u001b[0;34m(\u001b[0m\u001b[0mkey\u001b[0m\u001b[0;34m)\u001b[0m\u001b[0;34m:\u001b[0m\u001b[0;34m\u001b[0m\u001b[0;34m\u001b[0m\u001b[0m\n\u001b[0;32m--> 808\u001b[0;31m             \u001b[0mkey\u001b[0m \u001b[0;34m=\u001b[0m \u001b[0mcheck_bool_indexer\u001b[0m\u001b[0;34m(\u001b[0m\u001b[0mself\u001b[0m\u001b[0;34m.\u001b[0m\u001b[0mindex\u001b[0m\u001b[0;34m,\u001b[0m \u001b[0mkey\u001b[0m\u001b[0;34m)\u001b[0m\u001b[0;34m\u001b[0m\u001b[0;34m\u001b[0m\u001b[0m\n\u001b[0m\u001b[1;32m    809\u001b[0m \u001b[0;34m\u001b[0m\u001b[0m\n\u001b[1;32m    810\u001b[0m         \u001b[0;32mreturn\u001b[0m \u001b[0mself\u001b[0m\u001b[0;34m.\u001b[0m\u001b[0m_get_with\u001b[0m\u001b[0;34m(\u001b[0m\u001b[0mkey\u001b[0m\u001b[0;34m)\u001b[0m\u001b[0;34m\u001b[0m\u001b[0;34m\u001b[0m\u001b[0m\n",
      "\u001b[0;32m~/Envs/pkdb_analysis/lib/python3.6/site-packages/pandas/core/indexing.py\u001b[0m in \u001b[0;36mcheck_bool_indexer\u001b[0;34m(ax, key)\u001b[0m\n\u001b[1;32m   2354\u001b[0m         \u001b[0mmask\u001b[0m \u001b[0;34m=\u001b[0m \u001b[0misna\u001b[0m\u001b[0;34m(\u001b[0m\u001b[0mresult\u001b[0m\u001b[0;34m.\u001b[0m\u001b[0m_values\u001b[0m\u001b[0;34m)\u001b[0m\u001b[0;34m\u001b[0m\u001b[0;34m\u001b[0m\u001b[0m\n\u001b[1;32m   2355\u001b[0m         \u001b[0;32mif\u001b[0m \u001b[0mmask\u001b[0m\u001b[0;34m.\u001b[0m\u001b[0many\u001b[0m\u001b[0;34m(\u001b[0m\u001b[0;34m)\u001b[0m\u001b[0;34m:\u001b[0m\u001b[0;34m\u001b[0m\u001b[0;34m\u001b[0m\u001b[0m\n\u001b[0;32m-> 2356\u001b[0;31m             raise IndexingError('Unalignable boolean Series provided as '\n\u001b[0m\u001b[1;32m   2357\u001b[0m                                 \u001b[0;34m'indexer (index of the boolean Series and of '\u001b[0m\u001b[0;34m\u001b[0m\u001b[0;34m\u001b[0m\u001b[0m\n\u001b[1;32m   2358\u001b[0m                                 'the indexed object do not match')\n",
      "\u001b[0;31mIndexingError\u001b[0m: Unalignable boolean Series provided as indexer (index of the boolean Series and of the indexed object do not match"
     ]
    }
   ],
   "source": [
    "pk_g_realtive = convert_unit(pk_g,\n",
    "                             unit_in=\"mg\",\n",
    "                             unit_out=\"mg/kg\", \n",
    "                             factor=1.0/pk_g[(\"weight\",\"value\")],\n",
    "                             unit_field=\"unit_intervention\", \n",
    "                             data_fields=['value_intervention'], \n",
    "                             subset=(\"weight\",\"value\"))\n",
    "\n",
    "print(\"Number of measurements for individuals with selected criteria:\" ,len(pk_g_realtive))\n",
    "\n",
    "pk_g_absolute = convert_unit(pk_g,\n",
    "                             unit_in=\"mg/kg\",\n",
    "                             unit_out=\"mg\", \n",
    "                             factor=pk_g[(\"weight\",\"value\")],\n",
    "                             unit_field=\"unit_intervention\", \n",
    "                             data_fields=['value_intervention'],\n",
    "                             subset=(\"weight\",\"value\"))\n",
    "print(\"Number of measurements for individuals with selected criteria:\" ,len(pk_g_absolute))\n",
    "\n",
    "pk_g = pd.concat([pk_g,pk_g_realtive,pk_g_absolute], ignore_index=True)\n",
    "print(\"Number of measurements for individuals with selected criteria:\" ,len(pk_g))\n",
    "\n",
    "pk_g_realtive = convert_unit(pk_g,\n",
    "                             unit_in=\"ml/min\",\n",
    "                             unit_out=\"ml/min/kg\", \n",
    "                             factor=1.0/pk_g[(\"weight\",\"value\")],\n",
    "                             unit_field=\"unit\", \n",
    "                             subset=(\"weight\",\"value\"))\n",
    "\n",
    "print(\"Number of measurements for individuals with selected criteria:\" ,len(pk_i_realtive))\n",
    "\n",
    "pk_g_absolute = convert_unit(pk_g,\n",
    "                             unit_in=\"ml/min/kg\",\n",
    "                             unit_out=\"ml/min\", \n",
    "                             factor=pk_i[(\"weight\",\"value\")],\n",
    "                             unit_field=\"unit\", \n",
    "                             subset=(\"weight\",\"value\"))\n",
    "print(\"Number of measurements for individuals with selected criteria:\" ,len(pk_i_absolute))\n",
    "\n",
    "pk_g = pd.concat([pk_g,pk_g_realtive,pk_g_absolute], ignore_index=True)\n",
    "print(\"Number of measurements for individuals with selected criteria:\" ,len(pk_g))"
   ]
  },
  {
   "cell_type": "code",
   "execution_count": null,
   "metadata": {},
   "outputs": [],
   "source": [
    "\n"
   ]
  },
  {
   "cell_type": "code",
   "execution_count": null,
   "metadata": {},
   "outputs": [],
   "source": [
    "\n"
   ]
  },
  {
   "cell_type": "code",
   "execution_count": null,
   "metadata": {},
   "outputs": [],
   "source": [
    "idx = (pk_g.substance_name_intervention == 'caffeine') \\\n",
    "       & (pk_g.substance_name == 'caffeine') \\\n",
    "       & (pk_g[ ('healthy', 'choice')] == 'Y') \\\n",
    "       & (pk_g[ 'tissue'] == 'plasma')\n",
    "    \n",
    "pk_g = pk_g[idx]\n",
    "print(\"Number of measurements for groups with selected criteria:\" ,len(pk_g))"
   ]
  },
  {
   "cell_type": "code",
   "execution_count": null,
   "metadata": {},
   "outputs": [],
   "source": [
    "print(\"Individuals\")\n",
    "print(\"unit dose:\")\n",
    "print(pk_i.unit_intervention.unique())\n",
    "\n",
    "# absolute dose\n",
    "idx_dose_abs_i = (pk_i.unit_intervention == 'mg')\n",
    "# clearance per bodyweight\n",
    "idx_dose_rel_i = (pk_i.unit_intervention == 'mg/kg')\n"
   ]
  },
  {
   "cell_type": "code",
   "execution_count": null,
   "metadata": {},
   "outputs": [],
   "source": [
    "print(\"Groups\")\n",
    "print(\"unit dose:\")\n",
    "print(pk_g.unit_intervention.unique())\n",
    "\n",
    "# absolute dose\n",
    "idx_dose_abs_g = (pk_g.unit_intervention == 'mg')\n",
    "# clearance per bodyweight\n",
    "idx_dose_rel_g = (pk_g.unit_intervention == 'mg/kg')"
   ]
  },
  {
   "cell_type": "code",
   "execution_count": null,
   "metadata": {},
   "outputs": [],
   "source": []
  },
  {
   "cell_type": "code",
   "execution_count": null,
   "metadata": {
    "collapsed": true
   },
   "outputs": [],
   "source": [
    "#individuals_df = individuals_df[individuals_df[\"oral contraceptives\"][\"choice\"]==\"Y\"]\n",
    "#pk_i = pd.merge(pk,individuals_df.reset_index(),  how='inner', suffixes=('','subject'),left_on='individual_pk', right_on=\"subject_pk\")\n"
   ]
  },
  {
   "cell_type": "code",
   "execution_count": null,
   "metadata": {
    "collapsed": true
   },
   "outputs": [],
   "source": [
    "#pk_i[(\"oral contraceptives\",\"choice\")]"
   ]
  },
  {
   "cell_type": "code",
   "execution_count": null,
   "metadata": {
    "collapsed": true
   },
   "outputs": [],
   "source": [
    "# Styles for plots\n",
    "ccolors = {'control': 'black',\n",
    "           'smoking': 'blue',\n",
    "           'oc': 'green',\n",
    "          }\n",
    "markers = {'control': 's',\n",
    "           'smoking': 'o',\n",
    "           'oc': 'o',\n",
    "          }\n",
    "\n"
   ]
  },
  {
   "cell_type": "code",
   "execution_count": null,
   "metadata": {},
   "outputs": [],
   "source": [
    "def data_pktype(pktype, pk):\n",
    "    data = pk[pk.pktype==pktype]\n",
    "    print('{} ({})'.format(pktype, len(data)))\n",
    "    print(\"units:\", data.unit.unique())\n",
    "    return data\n",
    "    \n",
    "# clearance data\n",
    "print(\"Individuals\")\n",
    "cl_data_i = data_pktype('clearance', pk_i)\n",
    "# absolute clearance\n",
    "idx_cl_abs_i = (cl_data_i.unit == 'ml/min')\n",
    "# clearance per bodyweight\n",
    "idx_cl_rel_i = (cl_data_i.unit == 'ml/min/kg')\n",
    "\n",
    "# clearance data\n",
    "print(\"Groups\")\n",
    "cl_data_g = data_pktype('clearance', pk_g)\n",
    "# absolute clearance\n",
    "idx_cl_abs_g = (cl_data_g.unit == 'ml/min')\n",
    "# clearance per bodyweight\n",
    "idx_cl_rel_g = (cl_data_g.unit == 'ml/min/kg')"
   ]
  },
  {
   "cell_type": "code",
   "execution_count": null,
   "metadata": {},
   "outputs": [],
   "source": []
  },
  {
   "cell_type": "code",
   "execution_count": null,
   "metadata": {},
   "outputs": [],
   "source": [
    "for name, data in pk_i.groupby([(\"oral contraceptives\",\"choice\")]):\n",
    "    print(name,data.value.count())\n"
   ]
  },
  {
   "cell_type": "code",
   "execution_count": null,
   "metadata": {
    "collapsed": true
   },
   "outputs": [],
   "source": [
    "#pk_i[[\"individual_pk\",('oral contraceptives', 'choice')]\n",
    "#pk_i['individual_pk',[('oral contraceptives', 'choice')]]"
   ]
  },
  {
   "cell_type": "code",
   "execution_count": null,
   "metadata": {
    "collapsed": true
   },
   "outputs": [],
   "source": [
    "cateogry_filter = {'control':{('smoking', 'choice'):\"N\",('oral contraceptives', 'choice'):'N'},\n",
    "                   'smoking':{('smoking', 'choice'):\"Y\"}, \n",
    "                   'oc':{('oral contraceptives', 'choice'):'Y'}}                             \n",
    "\n",
    "def filter_df(filter_dict, df):\n",
    "    for filter_key, filter_value in filter_dict.items():\n",
    "        df = df[df[filter_key]==filter_value]\n",
    "    return df\n"
   ]
  },
  {
   "cell_type": "code",
   "execution_count": null,
   "metadata": {},
   "outputs": [],
   "source": [
    "for category in ccolors:\n",
    "        cf_filter = cateogry_filter[category]\n",
    "        df_category = filter_df(cf_filter,cl_data_i)\n",
    "        print(category, len(df_category))"
   ]
  },
  {
   "cell_type": "code",
   "execution_count": null,
   "metadata": {
    "scrolled": false
   },
   "outputs": [],
   "source": [
    "\n",
    "# plot caffeine clearance\n",
    "data = cl_data_i\n",
    "fig, ((ax1, ax2), (ax3, ax4)) = plt.subplots(nrows=2, ncols=2, figsize=(12, 12))\n",
    "\n",
    "dinds = [idx_dose_abs_i & idx_cl_abs_i,\n",
    "         idx_dose_rel_i & idx_cl_abs_i,\n",
    "         idx_dose_abs_i & idx_cl_rel_i,\n",
    "         idx_dose_rel_i & idx_cl_rel_i]\n",
    "for ax, inds in zip((ax1, ax2, ax3, ax4), dinds):\n",
    "    df = data[inds]\n",
    "    \n",
    "    for category in ccolors:\n",
    "        cf_filter = cateogry_filter[category]\n",
    "        df_category = filter_df(cf_filter,df)\n",
    "        x = df_category[\"value_intervention\"]\n",
    "        y = df_category.value\n",
    "        ax.scatter(x, y,color=ccolors[category], marker=markers[category], label=f\"{category}({len(x)})\", alpha=0.7)\n",
    "        #for i, txt in enumerate(df_category[('study', '')]):\n",
    "        #    ax.annotate(txt, (x.iloc[[i]],\n",
    "        #                      y.iloc[[i]]), alpha=0.7)\n",
    "    \n",
    "for ax in (ax1, ax2, ax3, ax4):\n",
    "    ax.set_ylim(bottom=0)\n",
    "    ax.legend()\n",
    "\n",
    "for ax in (ax1, ax2):\n",
    "    ax.set_title('Clearance')\n",
    "    ax.set_ylabel('caffeine clearance [ml/min]')\n",
    "    #ax.set_ylim([0, 300])\n",
    "    \n",
    "for ax in (ax3, ax4):\n",
    "    ax.set_ylabel('caffeine clearance [ml/min/kg]')\n",
    "    #ax.set_ylim([0, 5])\n",
    "    \n",
    "for ax in (ax1, ax3):\n",
    "    #ax.set_xlim(0, 500)\n",
    "    ax.set_xlabel('caffeine dose [mg]')\n",
    "for ax in (ax2, ax4):\n",
    "    #ax.set_xlim(0, 11)\n",
    "    ax.set_xlabel('caffeine dose [mg/kg]')"
   ]
  },
  {
   "cell_type": "code",
   "execution_count": null,
   "metadata": {},
   "outputs": [],
   "source": [
    "# plot caffeine clearance\n",
    "data = cl_data_g\n",
    "fig, ((ax1, ax2), (ax3, ax4)) = plt.subplots(nrows=2, ncols=2, figsize=(12, 12))\n",
    "\n",
    "dinds = [idx_dose_abs_g & idx_cl_abs_g,\n",
    "         idx_dose_rel_g & idx_cl_abs_g,\n",
    "         idx_dose_abs_g & idx_cl_rel_g,\n",
    "         idx_dose_rel_g & idx_cl_rel_g]\n",
    "for ax, inds in zip((ax1, ax2, ax3, ax4), dinds):\n",
    "    df = data[inds]\n",
    "    \n",
    "    for category in ccolors:\n",
    "        cf_filter = cateogry_filter[category]\n",
    "        df_category = filter_df(cf_filter,df)\n",
    "        x = df_category[\"value_intervention\"]\n",
    "        y = df_category[\"mean\"]\n",
    "        yerr = df_category[\"sd\"]\n",
    "\n",
    "        ax.errorbar(x, y,yerr=yerr,color=ccolors[category], fmt=markers[category], label=category, alpha=0.7)\n",
    "        for i, txt in enumerate(df_category[('study', '')]):\n",
    "            ax.annotate(txt, (x.iloc[[i]],\n",
    "                              y.iloc[[i]]), alpha=0.7)\n",
    "    \n",
    "for ax in (ax1, ax2, ax3, ax4):\n",
    "    ax.set_ylim(bottom=0)\n",
    "    ax.legend()\n",
    "\n",
    "for ax in (ax1, ax2):\n",
    "    ax.set_title('Clearance')\n",
    "    ax.set_ylabel('caffeine clearance [ml/min]')\n",
    "    #ax.set_ylim([0, 300])\n",
    "    \n",
    "for ax in (ax3, ax4):\n",
    "    ax.set_ylabel('caffeine clearance [ml/min/kg]')\n",
    "    #ax.set_ylim([0, 5])\n",
    "    \n",
    "for ax in (ax1, ax3):\n",
    "    #ax.set_xlim(0, 500)\n",
    "    ax.set_xlabel('caffeine dose [mg]')\n",
    "for ax in (ax2, ax4):\n",
    "    #ax.set_xlim(0, 11)\n",
    "    ax.set_xlabel('caffeine dose [mg/kg]')"
   ]
  },
  {
   "cell_type": "code",
   "execution_count": null,
   "metadata": {
    "collapsed": true
   },
   "outputs": [],
   "source": []
  }
 ],
 "metadata": {
  "kernelspec": {
   "display_name": "pkdb_analysis",
   "language": "python",
   "name": "pkdb_analysis"
  },
  "language_info": {
   "codemirror_mode": {
    "name": "ipython",
    "version": 3
   },
   "file_extension": ".py",
   "mimetype": "text/x-python",
   "name": "python",
   "nbconvert_exporter": "python",
   "pygments_lexer": "ipython3",
   "version": "3.6.7"
  }
 },
 "nbformat": 4,
 "nbformat_minor": 2
}
