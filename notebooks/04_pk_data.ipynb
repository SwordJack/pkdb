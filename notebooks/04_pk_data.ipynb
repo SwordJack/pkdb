{
 "cells": [
  {
   "cell_type": "code",
   "execution_count": 1,
   "metadata": {
    "collapsed": true
   },
   "outputs": [],
   "source": [
    "import pandas as pd\n",
    "import seaborn as sns\n",
    "import matplotlib.pyplot as plt"
   ]
  },
  {
   "cell_type": "code",
   "execution_count": 7,
   "metadata": {
    "collapsed": true
   },
   "outputs": [],
   "source": [
    "path =\"data.xlsx\"\n",
    "\n",
    "#pk_i = pd.read_excel(path,sheet_name=\"complete_for_individuals\",index_col=0)\n",
    "#pk_g = pd.read_excel(path,sheet_name=\"complete_for_groups\",index_col=0)\n",
    "\n",
    "pk_i = pd.read_csv(\"complete_for_individuals.tsv\",sep='\\t',index_col=0 )\n",
    "pk_g = pd.read_csv(\"complete_for_groups.tsv\",sep='\\t',index_col=0, )\n",
    "lisr"
   ]
  },
  {
   "cell_type": "code",
   "execution_count": 13,
   "metadata": {},
   "outputs": [
    {
     "data": {
      "text/plain": [
       "['pktype',\n",
       " 'unit',\n",
       " 'tissue',\n",
       " 'interventions',\n",
       " 'substance_name',\n",
       " 'individual_pk',\n",
       " 'value',\n",
       " 'group_pk',\n",
       " 'mean',\n",
       " 'se',\n",
       " 'cv',\n",
       " 'sd',\n",
       " 'time',\n",
       " 'time_unit',\n",
       " 'max',\n",
       " 'min',\n",
       " 'median',\n",
       " 'name',\n",
       " 'route',\n",
       " 'value_intervention',\n",
       " 'unit_intervention',\n",
       " 'substance_name_intervention',\n",
       " 'time_unit_intervention',\n",
       " 'time_intervention',\n",
       " 'form',\n",
       " 'application',\n",
       " 'choice',\n",
       " 'se_intervention',\n",
       " 'min_intervention',\n",
       " 'max_intervention',\n",
       " ('study', ''),\n",
       " ('subject_pk', ''),\n",
       " ('subject_name', ''),\n",
       " ('healthy', 'choice'),\n",
       " ('healthy', 'count'),\n",
       " ('species', 'choice'),\n",
       " ('species', 'count'),\n",
       " ('age', 'count'),\n",
       " ('age', 'cv'),\n",
       " ('age', 'max'),\n",
       " ('age', 'mean'),\n",
       " ('age', 'min'),\n",
       " ('age', 'sd'),\n",
       " ('age', 'se'),\n",
       " ('age', 'unit'),\n",
       " ('age', 'value'),\n",
       " ('sex', 'choice'),\n",
       " ('sex', 'count'),\n",
       " ('sex', 'unit'),\n",
       " ('smoking', 'choice'),\n",
       " ('smoking', 'count'),\n",
       " ('smoking', 'unit'),\n",
       " ('weight', 'count'),\n",
       " ('weight', 'cv'),\n",
       " ('weight', 'max'),\n",
       " ('weight', 'mean'),\n",
       " ('weight', 'min'),\n",
       " ('weight', 'sd'),\n",
       " ('weight', 'se'),\n",
       " ('weight', 'unit'),\n",
       " ('weight', 'value'),\n",
       " ('abstinence', 'choice'),\n",
       " ('abstinence', 'count'),\n",
       " ('abstinence', 'min'),\n",
       " ('abstinence', 'unit'),\n",
       " ('abstinence', 'value'),\n",
       " ('oral contraceptives', 'choice'),\n",
       " ('oral contraceptives', 'count'),\n",
       " ('ethnicity', 'choice'),\n",
       " ('ethnicity', 'count'),\n",
       " ('medication', 'choice'),\n",
       " ('medication', 'count'),\n",
       " ('disease', 'choice'),\n",
       " ('disease', 'count'),\n",
       " ('bmi', 'count'),\n",
       " ('bmi', 'max'),\n",
       " ('bmi', 'mean'),\n",
       " ('bmi', 'min'),\n",
       " ('bmi', 'unit'),\n",
       " ('blood pressure', 'count'),\n",
       " ('blood pressure', 'max'),\n",
       " ('blood pressure', 'unit'),\n",
       " ('smoking amount (cigarettes)', 'count'),\n",
       " ('smoking amount (cigarettes)', 'max'),\n",
       " ('smoking amount (cigarettes)', 'min'),\n",
       " ('smoking amount (cigarettes)', 'unit'),\n",
       " ('smoking amount (cigarettes)', 'value'),\n",
       " ('overnight fast', 'choice'),\n",
       " ('overnight fast', 'count'),\n",
       " ('smoking duration (years)', 'count'),\n",
       " ('smoking duration (years)', 'min'),\n",
       " ('smoking duration (years)', 'unit'),\n",
       " ('caffeine amount', 'count'),\n",
       " ('caffeine amount', 'mean'),\n",
       " ('caffeine amount', 'unit'),\n",
       " ('caffeine amount (beverages)', 'count'),\n",
       " ('caffeine amount (beverages)', 'max'),\n",
       " ('caffeine amount (beverages)', 'unit'),\n",
       " ('caffeine amount (beverages)', 'value'),\n",
       " ('phenotype', 'choice'),\n",
       " ('phenotype', 'count'),\n",
       " ('alcohol abstinence', 'choice'),\n",
       " ('alcohol abstinence', 'count'),\n",
       " ('alcohol abstinence', 'unit'),\n",
       " ('alcohol abstinence', 'value'),\n",
       " ('smoking amount (packyears)', 'count'),\n",
       " ('smoking amount (packyears)', 'min'),\n",
       " ('smoking amount (packyears)', 'unit'),\n",
       " ('height', 'count'),\n",
       " ('height', 'unit'),\n",
       " ('height', 'value'),\n",
       " ('fasted', 'count'),\n",
       " ('fasted', 'unit'),\n",
       " ('fasted', 'value'),\n",
       " ('caffeine', 'choice'),\n",
       " ('caffeine', 'count'),\n",
       " ('alcohol', 'count'),\n",
       " ('medication type', 'choice'),\n",
       " ('medication type', 'count'),\n",
       " ('CYP2D6 genotype', 'choice'),\n",
       " ('CYP2D6 genotype', 'count')]"
      ]
     },
     "execution_count": 13,
     "metadata": {},
     "output_type": "execute_result"
    }
   ],
   "source": [
    "pk_i.columns = [eval(c) if \",\" in c else c for c in list(pk_i.columns) ]\n",
    "pk_g.columns = [eval(c) if \",\" in c else c for c in list(pk_g.columns) ]"
   ]
  },
  {
   "cell_type": "code",
   "execution_count": 6,
   "metadata": {},
   "outputs": [
    {
     "ename": "KeyError",
     "evalue": "('healthy', 'choice')",
     "output_type": "error",
     "traceback": [
      "\u001b[0;31m---------------------------------------------------------------------------\u001b[0m",
      "\u001b[0;31mKeyError\u001b[0m                                  Traceback (most recent call last)",
      "\u001b[0;32m~/Envs/pkdb_analysis/lib/python3.6/site-packages/pandas/core/indexes/base.py\u001b[0m in \u001b[0;36mget_loc\u001b[0;34m(self, key, method, tolerance)\u001b[0m\n\u001b[1;32m   3077\u001b[0m             \u001b[0;32mtry\u001b[0m\u001b[0;34m:\u001b[0m\u001b[0;34m\u001b[0m\u001b[0;34m\u001b[0m\u001b[0m\n\u001b[0;32m-> 3078\u001b[0;31m                 \u001b[0;32mreturn\u001b[0m \u001b[0mself\u001b[0m\u001b[0;34m.\u001b[0m\u001b[0m_engine\u001b[0m\u001b[0;34m.\u001b[0m\u001b[0mget_loc\u001b[0m\u001b[0;34m(\u001b[0m\u001b[0mkey\u001b[0m\u001b[0;34m)\u001b[0m\u001b[0;34m\u001b[0m\u001b[0;34m\u001b[0m\u001b[0m\n\u001b[0m\u001b[1;32m   3079\u001b[0m             \u001b[0;32mexcept\u001b[0m \u001b[0mKeyError\u001b[0m\u001b[0;34m:\u001b[0m\u001b[0;34m\u001b[0m\u001b[0;34m\u001b[0m\u001b[0m\n",
      "\u001b[0;32mpandas/_libs/index.pyx\u001b[0m in \u001b[0;36mpandas._libs.index.IndexEngine.get_loc\u001b[0;34m()\u001b[0m\n",
      "\u001b[0;32mpandas/_libs/index.pyx\u001b[0m in \u001b[0;36mpandas._libs.index.IndexEngine.get_loc\u001b[0;34m()\u001b[0m\n",
      "\u001b[0;32mpandas/_libs/hashtable_class_helper.pxi\u001b[0m in \u001b[0;36mpandas._libs.hashtable.PyObjectHashTable.get_item\u001b[0;34m()\u001b[0m\n",
      "\u001b[0;32mpandas/_libs/hashtable_class_helper.pxi\u001b[0m in \u001b[0;36mpandas._libs.hashtable.PyObjectHashTable.get_item\u001b[0;34m()\u001b[0m\n",
      "\u001b[0;31mKeyError\u001b[0m: ('healthy', 'choice')",
      "\nDuring handling of the above exception, another exception occurred:\n",
      "\u001b[0;31mKeyError\u001b[0m                                  Traceback (most recent call last)",
      "\u001b[0;32m<ipython-input-6-d3c52c2d392e>\u001b[0m in \u001b[0;36m<module>\u001b[0;34m\u001b[0m\n\u001b[1;32m      5\u001b[0m        \u001b[0;34m&\u001b[0m \u001b[0;34m(\u001b[0m\u001b[0mpk_i\u001b[0m\u001b[0;34m.\u001b[0m\u001b[0msubstance_name\u001b[0m \u001b[0;34m==\u001b[0m \u001b[0;34m'caffeine'\u001b[0m\u001b[0;34m)\u001b[0m\u001b[0;31m \u001b[0m\u001b[0;31m\\\u001b[0m\u001b[0;34m\u001b[0m\u001b[0;34m\u001b[0m\u001b[0m\n\u001b[1;32m      6\u001b[0m        \u001b[0;34m&\u001b[0m \u001b[0;34m(\u001b[0m\u001b[0mpk_i\u001b[0m\u001b[0;34m[\u001b[0m \u001b[0;34m(\u001b[0m\u001b[0;34m'healthy'\u001b[0m\u001b[0;34m,\u001b[0m \u001b[0;34m'choice'\u001b[0m\u001b[0;34m)\u001b[0m\u001b[0;34m]\u001b[0m \u001b[0;34m==\u001b[0m \u001b[0;34m'Y'\u001b[0m\u001b[0;34m)\u001b[0m\u001b[0;31m\\\u001b[0m\u001b[0;34m\u001b[0m\u001b[0;34m\u001b[0m\u001b[0m\n\u001b[0;32m----> 7\u001b[0;31m        \u001b[0;34m&\u001b[0m \u001b[0;34m(\u001b[0m\u001b[0mpk_i\u001b[0m\u001b[0;34m[\u001b[0m \u001b[0;34m'tissue'\u001b[0m\u001b[0;34m]\u001b[0m \u001b[0;34m==\u001b[0m \u001b[0;34m'plasma'\u001b[0m\u001b[0;34m)\u001b[0m\u001b[0;34m\u001b[0m\u001b[0;34m\u001b[0m\u001b[0m\n\u001b[0m\u001b[1;32m      8\u001b[0m \u001b[0;34m\u001b[0m\u001b[0m\n\u001b[1;32m      9\u001b[0m \u001b[0mpk_i\u001b[0m \u001b[0;34m=\u001b[0m \u001b[0mpk_i\u001b[0m\u001b[0;34m[\u001b[0m\u001b[0midx\u001b[0m\u001b[0;34m]\u001b[0m\u001b[0;34m\u001b[0m\u001b[0;34m\u001b[0m\u001b[0m\n",
      "\u001b[0;32m~/Envs/pkdb_analysis/lib/python3.6/site-packages/pandas/core/frame.py\u001b[0m in \u001b[0;36m__getitem__\u001b[0;34m(self, key)\u001b[0m\n\u001b[1;32m   2686\u001b[0m             \u001b[0;32mreturn\u001b[0m \u001b[0mself\u001b[0m\u001b[0;34m.\u001b[0m\u001b[0m_getitem_multilevel\u001b[0m\u001b[0;34m(\u001b[0m\u001b[0mkey\u001b[0m\u001b[0;34m)\u001b[0m\u001b[0;34m\u001b[0m\u001b[0;34m\u001b[0m\u001b[0m\n\u001b[1;32m   2687\u001b[0m         \u001b[0;32melse\u001b[0m\u001b[0;34m:\u001b[0m\u001b[0;34m\u001b[0m\u001b[0;34m\u001b[0m\u001b[0m\n\u001b[0;32m-> 2688\u001b[0;31m             \u001b[0;32mreturn\u001b[0m \u001b[0mself\u001b[0m\u001b[0;34m.\u001b[0m\u001b[0m_getitem_column\u001b[0m\u001b[0;34m(\u001b[0m\u001b[0mkey\u001b[0m\u001b[0;34m)\u001b[0m\u001b[0;34m\u001b[0m\u001b[0;34m\u001b[0m\u001b[0m\n\u001b[0m\u001b[1;32m   2689\u001b[0m \u001b[0;34m\u001b[0m\u001b[0m\n\u001b[1;32m   2690\u001b[0m     \u001b[0;32mdef\u001b[0m \u001b[0m_getitem_column\u001b[0m\u001b[0;34m(\u001b[0m\u001b[0mself\u001b[0m\u001b[0;34m,\u001b[0m \u001b[0mkey\u001b[0m\u001b[0;34m)\u001b[0m\u001b[0;34m:\u001b[0m\u001b[0;34m\u001b[0m\u001b[0;34m\u001b[0m\u001b[0m\n",
      "\u001b[0;32m~/Envs/pkdb_analysis/lib/python3.6/site-packages/pandas/core/frame.py\u001b[0m in \u001b[0;36m_getitem_column\u001b[0;34m(self, key)\u001b[0m\n\u001b[1;32m   2693\u001b[0m         \u001b[0;31m# get column\u001b[0m\u001b[0;34m\u001b[0m\u001b[0;34m\u001b[0m\u001b[0;34m\u001b[0m\u001b[0m\n\u001b[1;32m   2694\u001b[0m         \u001b[0;32mif\u001b[0m \u001b[0mself\u001b[0m\u001b[0;34m.\u001b[0m\u001b[0mcolumns\u001b[0m\u001b[0;34m.\u001b[0m\u001b[0mis_unique\u001b[0m\u001b[0;34m:\u001b[0m\u001b[0;34m\u001b[0m\u001b[0;34m\u001b[0m\u001b[0m\n\u001b[0;32m-> 2695\u001b[0;31m             \u001b[0;32mreturn\u001b[0m \u001b[0mself\u001b[0m\u001b[0;34m.\u001b[0m\u001b[0m_get_item_cache\u001b[0m\u001b[0;34m(\u001b[0m\u001b[0mkey\u001b[0m\u001b[0;34m)\u001b[0m\u001b[0;34m\u001b[0m\u001b[0;34m\u001b[0m\u001b[0m\n\u001b[0m\u001b[1;32m   2696\u001b[0m \u001b[0;34m\u001b[0m\u001b[0m\n\u001b[1;32m   2697\u001b[0m         \u001b[0;31m# duplicate columns & possible reduce dimensionality\u001b[0m\u001b[0;34m\u001b[0m\u001b[0;34m\u001b[0m\u001b[0;34m\u001b[0m\u001b[0m\n",
      "\u001b[0;32m~/Envs/pkdb_analysis/lib/python3.6/site-packages/pandas/core/generic.py\u001b[0m in \u001b[0;36m_get_item_cache\u001b[0;34m(self, item)\u001b[0m\n\u001b[1;32m   2487\u001b[0m         \u001b[0mres\u001b[0m \u001b[0;34m=\u001b[0m \u001b[0mcache\u001b[0m\u001b[0;34m.\u001b[0m\u001b[0mget\u001b[0m\u001b[0;34m(\u001b[0m\u001b[0mitem\u001b[0m\u001b[0;34m)\u001b[0m\u001b[0;34m\u001b[0m\u001b[0;34m\u001b[0m\u001b[0m\n\u001b[1;32m   2488\u001b[0m         \u001b[0;32mif\u001b[0m \u001b[0mres\u001b[0m \u001b[0;32mis\u001b[0m \u001b[0;32mNone\u001b[0m\u001b[0;34m:\u001b[0m\u001b[0;34m\u001b[0m\u001b[0;34m\u001b[0m\u001b[0m\n\u001b[0;32m-> 2489\u001b[0;31m             \u001b[0mvalues\u001b[0m \u001b[0;34m=\u001b[0m \u001b[0mself\u001b[0m\u001b[0;34m.\u001b[0m\u001b[0m_data\u001b[0m\u001b[0;34m.\u001b[0m\u001b[0mget\u001b[0m\u001b[0;34m(\u001b[0m\u001b[0mitem\u001b[0m\u001b[0;34m)\u001b[0m\u001b[0;34m\u001b[0m\u001b[0;34m\u001b[0m\u001b[0m\n\u001b[0m\u001b[1;32m   2490\u001b[0m             \u001b[0mres\u001b[0m \u001b[0;34m=\u001b[0m \u001b[0mself\u001b[0m\u001b[0;34m.\u001b[0m\u001b[0m_box_item_values\u001b[0m\u001b[0;34m(\u001b[0m\u001b[0mitem\u001b[0m\u001b[0;34m,\u001b[0m \u001b[0mvalues\u001b[0m\u001b[0;34m)\u001b[0m\u001b[0;34m\u001b[0m\u001b[0;34m\u001b[0m\u001b[0m\n\u001b[1;32m   2491\u001b[0m             \u001b[0mcache\u001b[0m\u001b[0;34m[\u001b[0m\u001b[0mitem\u001b[0m\u001b[0;34m]\u001b[0m \u001b[0;34m=\u001b[0m \u001b[0mres\u001b[0m\u001b[0;34m\u001b[0m\u001b[0;34m\u001b[0m\u001b[0m\n",
      "\u001b[0;32m~/Envs/pkdb_analysis/lib/python3.6/site-packages/pandas/core/internals.py\u001b[0m in \u001b[0;36mget\u001b[0;34m(self, item, fastpath)\u001b[0m\n\u001b[1;32m   4113\u001b[0m \u001b[0;34m\u001b[0m\u001b[0m\n\u001b[1;32m   4114\u001b[0m             \u001b[0;32mif\u001b[0m \u001b[0;32mnot\u001b[0m \u001b[0misna\u001b[0m\u001b[0;34m(\u001b[0m\u001b[0mitem\u001b[0m\u001b[0;34m)\u001b[0m\u001b[0;34m:\u001b[0m\u001b[0;34m\u001b[0m\u001b[0;34m\u001b[0m\u001b[0m\n\u001b[0;32m-> 4115\u001b[0;31m                 \u001b[0mloc\u001b[0m \u001b[0;34m=\u001b[0m \u001b[0mself\u001b[0m\u001b[0;34m.\u001b[0m\u001b[0mitems\u001b[0m\u001b[0;34m.\u001b[0m\u001b[0mget_loc\u001b[0m\u001b[0;34m(\u001b[0m\u001b[0mitem\u001b[0m\u001b[0;34m)\u001b[0m\u001b[0;34m\u001b[0m\u001b[0;34m\u001b[0m\u001b[0m\n\u001b[0m\u001b[1;32m   4116\u001b[0m             \u001b[0;32melse\u001b[0m\u001b[0;34m:\u001b[0m\u001b[0;34m\u001b[0m\u001b[0;34m\u001b[0m\u001b[0m\n\u001b[1;32m   4117\u001b[0m                 \u001b[0mindexer\u001b[0m \u001b[0;34m=\u001b[0m \u001b[0mnp\u001b[0m\u001b[0;34m.\u001b[0m\u001b[0marange\u001b[0m\u001b[0;34m(\u001b[0m\u001b[0mlen\u001b[0m\u001b[0;34m(\u001b[0m\u001b[0mself\u001b[0m\u001b[0;34m.\u001b[0m\u001b[0mitems\u001b[0m\u001b[0;34m)\u001b[0m\u001b[0;34m)\u001b[0m\u001b[0;34m[\u001b[0m\u001b[0misna\u001b[0m\u001b[0;34m(\u001b[0m\u001b[0mself\u001b[0m\u001b[0;34m.\u001b[0m\u001b[0mitems\u001b[0m\u001b[0;34m)\u001b[0m\u001b[0;34m]\u001b[0m\u001b[0;34m\u001b[0m\u001b[0;34m\u001b[0m\u001b[0m\n",
      "\u001b[0;32m~/Envs/pkdb_analysis/lib/python3.6/site-packages/pandas/core/indexes/base.py\u001b[0m in \u001b[0;36mget_loc\u001b[0;34m(self, key, method, tolerance)\u001b[0m\n\u001b[1;32m   3078\u001b[0m                 \u001b[0;32mreturn\u001b[0m \u001b[0mself\u001b[0m\u001b[0;34m.\u001b[0m\u001b[0m_engine\u001b[0m\u001b[0;34m.\u001b[0m\u001b[0mget_loc\u001b[0m\u001b[0;34m(\u001b[0m\u001b[0mkey\u001b[0m\u001b[0;34m)\u001b[0m\u001b[0;34m\u001b[0m\u001b[0;34m\u001b[0m\u001b[0m\n\u001b[1;32m   3079\u001b[0m             \u001b[0;32mexcept\u001b[0m \u001b[0mKeyError\u001b[0m\u001b[0;34m:\u001b[0m\u001b[0;34m\u001b[0m\u001b[0;34m\u001b[0m\u001b[0m\n\u001b[0;32m-> 3080\u001b[0;31m                 \u001b[0;32mreturn\u001b[0m \u001b[0mself\u001b[0m\u001b[0;34m.\u001b[0m\u001b[0m_engine\u001b[0m\u001b[0;34m.\u001b[0m\u001b[0mget_loc\u001b[0m\u001b[0;34m(\u001b[0m\u001b[0mself\u001b[0m\u001b[0;34m.\u001b[0m\u001b[0m_maybe_cast_indexer\u001b[0m\u001b[0;34m(\u001b[0m\u001b[0mkey\u001b[0m\u001b[0;34m)\u001b[0m\u001b[0;34m)\u001b[0m\u001b[0;34m\u001b[0m\u001b[0;34m\u001b[0m\u001b[0m\n\u001b[0m\u001b[1;32m   3081\u001b[0m \u001b[0;34m\u001b[0m\u001b[0m\n\u001b[1;32m   3082\u001b[0m         \u001b[0mindexer\u001b[0m \u001b[0;34m=\u001b[0m \u001b[0mself\u001b[0m\u001b[0;34m.\u001b[0m\u001b[0mget_indexer\u001b[0m\u001b[0;34m(\u001b[0m\u001b[0;34m[\u001b[0m\u001b[0mkey\u001b[0m\u001b[0;34m]\u001b[0m\u001b[0;34m,\u001b[0m \u001b[0mmethod\u001b[0m\u001b[0;34m=\u001b[0m\u001b[0mmethod\u001b[0m\u001b[0;34m,\u001b[0m \u001b[0mtolerance\u001b[0m\u001b[0;34m=\u001b[0m\u001b[0mtolerance\u001b[0m\u001b[0;34m)\u001b[0m\u001b[0;34m\u001b[0m\u001b[0;34m\u001b[0m\u001b[0m\n",
      "\u001b[0;32mpandas/_libs/index.pyx\u001b[0m in \u001b[0;36mpandas._libs.index.IndexEngine.get_loc\u001b[0;34m()\u001b[0m\n",
      "\u001b[0;32mpandas/_libs/index.pyx\u001b[0m in \u001b[0;36mpandas._libs.index.IndexEngine.get_loc\u001b[0;34m()\u001b[0m\n",
      "\u001b[0;32mpandas/_libs/hashtable_class_helper.pxi\u001b[0m in \u001b[0;36mpandas._libs.hashtable.PyObjectHashTable.get_item\u001b[0;34m()\u001b[0m\n",
      "\u001b[0;32mpandas/_libs/hashtable_class_helper.pxi\u001b[0m in \u001b[0;36mpandas._libs.hashtable.PyObjectHashTable.get_item\u001b[0;34m()\u001b[0m\n",
      "\u001b[0;31mKeyError\u001b[0m: ('healthy', 'choice')"
     ]
    }
   ],
   "source": [
    "# filter caffeine clearance healthy\n",
    "#& (pk_i.application == \"single dose\") \\\n",
    "\n",
    "idx = (pk_i.substance_name_intervention == 'caffeine') \\\n",
    "       & (pk_i.substance_name == 'caffeine') \\\n",
    "       & (pk_i[ ('healthy', 'choice')] == 'Y')\\\n",
    "       & (pk_i[ 'tissue'] == 'plasma') \n",
    "    \n",
    "pk_i = pk_i[idx]\n",
    "print(\"Number of measurements for individuals with selected criteria:\" ,len(pk_i))"
   ]
  },
  {
   "cell_type": "code",
   "execution_count": null,
   "metadata": {},
   "outputs": [],
   "source": [
    "idx = (pk_g.substance_name_intervention == 'caffeine') \\\n",
    "       & (pk_g.substance_name == 'caffeine') \\\n",
    "       & (pk_g[ ('healthy', 'choice')] == 'Y') \\\n",
    "       & (pk_g[ 'tissue'] == 'plasma')\n",
    "    \n",
    "pk_g = pk_g[idx]\n",
    "print(\"Number of measurements for groups with selected criteria:\" ,len(pk_g))"
   ]
  },
  {
   "cell_type": "code",
   "execution_count": null,
   "metadata": {},
   "outputs": [],
   "source": [
    "print(\"Individuals\")\n",
    "print(\"unit intervetion:\")\n",
    "print(pk_i.unit_intervention.unique())\n",
    "\n",
    "# absolute dose\n",
    "idx_dose_abs_i = (pk_i.unit_intervention == 'mg')\n",
    "# clearance per bodyweight\n",
    "idx_dose_rel_i = (pk_i.unit_intervention == 'mg/kg')\n"
   ]
  },
  {
   "cell_type": "code",
   "execution_count": null,
   "metadata": {
    "collapsed": true
   },
   "outputs": [],
   "source": []
  },
  {
   "cell_type": "code",
   "execution_count": null,
   "metadata": {},
   "outputs": [],
   "source": [
    "print(\"Groups\")\n",
    "print(\"unit intervetion:\")\n",
    "print(pk_g.unit_intervention.unique())\n",
    "\n",
    "# absolute dose\n",
    "idx_dose_abs_g = (pk_g.unit_intervention == 'mg')\n",
    "# clearance per bodyweight\n",
    "idx_dose_rel_g = (pk_g.unit_intervention == 'mg/kg')"
   ]
  },
  {
   "cell_type": "code",
   "execution_count": null,
   "metadata": {
    "collapsed": true
   },
   "outputs": [],
   "source": [
    "#individuals_df = individuals_df[individuals_df[\"oral contraceptives\"][\"choice\"]==\"Y\"]\n",
    "#pk_i = pd.merge(pk,individuals_df.reset_index(),  how='inner', suffixes=('','subject'),left_on='individual_pk', right_on=\"subject_pk\")\n"
   ]
  },
  {
   "cell_type": "code",
   "execution_count": null,
   "metadata": {
    "collapsed": true
   },
   "outputs": [],
   "source": [
    "#pk_i[(\"oral contraceptives\",\"choice\")]"
   ]
  },
  {
   "cell_type": "code",
   "execution_count": null,
   "metadata": {
    "collapsed": true
   },
   "outputs": [],
   "source": [
    "# Styles for plots\n",
    "ccolors = {'control': 'black',\n",
    "           'smoking': 'blue',\n",
    "           'oc': 'green',\n",
    "          }\n",
    "markers = {'control': 's',\n",
    "           'smoking': 'o',\n",
    "           'oc': 'o',\n",
    "          }\n",
    "\n",
    "cateogry_filter = {\n",
    "    'control':{\n",
    "        ('smoking', 'choice'):\"N\",\n",
    "        ('oral contraceptives', 'choice'):'N'},\n",
    "    'smoking':{\n",
    "        ('smoking', 'choice'):\"Y\"}, \n",
    "    'oc':{\n",
    "        ('oral contraceptives', 'choice'):'Y'}\n",
    "}    \n"
   ]
  },
  {
   "cell_type": "code",
   "execution_count": null,
   "metadata": {
    "collapsed": true
   },
   "outputs": [],
   "source": [
    "#ccolors = {'men': 'black',\n",
    "#           'female': 'blue',\n",
    "#           \n",
    "#          }\n",
    "#markers = {'men': 's',\n",
    "#           'female': 'o',\n",
    "#          }\n",
    "\n",
    "#cateogry_filter = {\n",
    "#    'men':{\n",
    "#        ('sex', 'choice'):\"M\"},\n",
    "#    'female':{\n",
    "#        ('sex', 'choice'):\"F\"}    \n",
    "#}    \n"
   ]
  },
  {
   "cell_type": "code",
   "execution_count": null,
   "metadata": {
    "collapsed": true
   },
   "outputs": [],
   "source": [
    "#ccolors = {'homo sapiens': 'black',\n",
    "#           \n",
    "#          }\n",
    "#markers = {'homo sapiens': 's',\n",
    "#          }\n",
    "#\n",
    "#cateogry_filter = {\n",
    "#    'homo sapiens':{\n",
    "#        ('species', 'choice'):\"homo sapiens\"}, \n",
    "#}    \n"
   ]
  },
  {
   "cell_type": "code",
   "execution_count": null,
   "metadata": {},
   "outputs": [],
   "source": [
    "def data_pktype(pktype, pk):\n",
    "    data = pk[pk.pktype==pktype]\n",
    "    print('{} ({})'.format(pktype, len(data)))\n",
    "    print(\"units:\", data.unit.unique())\n",
    "    return data\n",
    "    \n",
    "# clearance data\n",
    "print(\"Individuals\")\n",
    "cl_data_i = data_pktype('clearance', pk_i)\n",
    "# absolute clearance\n",
    "idx_cl_abs_i = (cl_data_i.unit == 'ml/min')\n",
    "# clearance per bodyweight\n",
    "idx_cl_rel_i = (cl_data_i.unit == 'ml/min/kg')\n",
    "\n",
    "# clearance data\n",
    "print(\"Groups\")\n",
    "cl_data_g = data_pktype('clearance', pk_g)\n",
    "# absolute clearance\n",
    "idx_cl_abs_g = (cl_data_g.unit == 'ml/min')\n",
    "# clearance per bodyweight\n",
    "idx_cl_rel_g = (cl_data_g.unit == 'ml/min/kg')"
   ]
  },
  {
   "cell_type": "code",
   "execution_count": null,
   "metadata": {},
   "outputs": [],
   "source": [
    "cl_data_i.groupby(\"unit\")[\"value\"].count()"
   ]
  },
  {
   "cell_type": "code",
   "execution_count": null,
   "metadata": {},
   "outputs": [],
   "source": [
    "\n",
    "cl_data_g.groupby(\"unit\")[\"mean\"].count()"
   ]
  },
  {
   "cell_type": "code",
   "execution_count": null,
   "metadata": {
    "collapsed": true
   },
   "outputs": [],
   "source": [
    "def filter_df(filter_dict, df):\n",
    "    for filter_key, filter_value in filter_dict.items():\n",
    "        df = df[df[filter_key]==filter_value]\n",
    "    return df"
   ]
  },
  {
   "cell_type": "code",
   "execution_count": null,
   "metadata": {},
   "outputs": [],
   "source": [
    "for category in ccolors:\n",
    "        cf_filter = cateogry_filter[category]\n",
    "        df_category = filter_df(cf_filter,cl_data_i)\n",
    "        print(category, len(df_category))"
   ]
  },
  {
   "cell_type": "code",
   "execution_count": null,
   "metadata": {
    "collapsed": true
   },
   "outputs": [],
   "source": [
    "#individuals_df[\"oral contraceptives\"].groupby(\"choice\").count()"
   ]
  },
  {
   "cell_type": "code",
   "execution_count": null,
   "metadata": {},
   "outputs": [],
   "source": [
    "pk_i.groupby((\"oral contraceptives\",\"choice\")).get_group(\"Y\").groupby(\"pktype\").count()"
   ]
  },
  {
   "cell_type": "code",
   "execution_count": null,
   "metadata": {
    "scrolled": false
   },
   "outputs": [],
   "source": [
    "\n",
    "# plot caffeine clearance\n",
    "data = cl_data_i\n",
    "fig, ((ax1, ax2), (ax3, ax4)) = plt.subplots(nrows=2, ncols=2, figsize=(12, 12))\n",
    "\n",
    "dinds = [idx_dose_abs_i & idx_cl_abs_i,\n",
    "         idx_dose_rel_i & idx_cl_abs_i,\n",
    "         idx_dose_abs_i & idx_cl_rel_i,\n",
    "         idx_dose_rel_i & idx_cl_rel_i]\n",
    "for ax, inds in zip((ax1, ax2, ax3, ax4), dinds):\n",
    "    df = data[inds]\n",
    "    \n",
    "    for category in ccolors:\n",
    "        cf_filter = cateogry_filter[category]\n",
    "        df_category = filter_df(cf_filter,df)\n",
    "        x = df_category[\"value_intervention\"]\n",
    "        #x = df_category[(\"age\",\"value\")]\n",
    "\n",
    "        y = df_category.value\n",
    "        ax.scatter(x, y,color=ccolors[category], marker=markers[category], label=f\"{category}({len(x)})\", alpha=0.7)\n",
    "        #sns.distplot( y,ax =ax,color=ccolors[category],  label=f\"{category}({len(x)})\",kde_kws={'clip': (0.0,100000 )})\n",
    "\n",
    "        #for i, txt in enumerate(df_category[('study', '')]):\n",
    "        #    ax.annotate(txt, (x.iloc[[i]],\n",
    "        #                      y.iloc[[i]]), alpha=0.7)\n",
    "    \n",
    "for ax in (ax1, ax2, ax3, ax4):\n",
    "    ax.set_ylim(bottom=0)\n",
    "    ax.legend()\n",
    "\n",
    "\n",
    "\n",
    "for ax in (ax1, ax2):\n",
    "    ax.set_title('Clearance')\n",
    "    ax.set_ylabel('caffeine clearance [ml/min]')\n",
    "    #ax.set_ylim([0, 300])\n",
    "    ax.set_ylim(bottom=0)\n",
    "\n",
    "    \n",
    "for ax in (ax3, ax4):\n",
    "    ax.set_ylabel('caffeine clearance [ml/min/kg]')\n",
    "    #ax.set_ylim([0, 5])\n",
    "    ax.set_ylim(bottom=0)\n",
    "\n",
    "for ax in (ax1, ax3):\n",
    "    #ax.set_xlim(0, 500)\n",
    "    ax.set_xlabel('caffeine dose [mg]')\n",
    "    ax.set_xlim(left=0)\n",
    "\n",
    "for ax in (ax2, ax4):\n",
    "    #ax.set_xlim(0, 11)\n",
    "    ax.set_xlim(left=0)\n",
    "\n",
    "    ax.set_xlabel('caffeine dose [mg/kg]')"
   ]
  },
  {
   "cell_type": "code",
   "execution_count": null,
   "metadata": {},
   "outputs": [],
   "source": [
    "for category in ccolors:\n",
    "        cf_filter = cateogry_filter[category]\n",
    "        df_category = filter_df(cf_filter,cl_data_g)\n",
    "        print(category, len(df_category))"
   ]
  },
  {
   "cell_type": "code",
   "execution_count": null,
   "metadata": {
    "collapsed": true
   },
   "outputs": [],
   "source": [
    "#cl_data_g.groupby([('oral contraceptives', 'choice'),('smoking', 'choice')])[\"mean\"].count()\n",
    "#len(cl_data_g)\n",
    "#cl_data_g.groupby(('smoking', 'choice'))\n",
    "#cl_data_g[[('smoking', \"count\"),('oral contraceptives', \"count\")]]"
   ]
  },
  {
   "cell_type": "code",
   "execution_count": null,
   "metadata": {},
   "outputs": [],
   "source": [
    "# plot caffeine clearance\n",
    "data = cl_data_g[cl_data_g[\"mean\"].notnull()]\n",
    "fig, ((ax1, ax2), (ax3, ax4)) = plt.subplots(nrows=2, ncols=2, figsize=(12, 12))\n",
    "\n",
    "dinds = [idx_dose_abs_g & idx_cl_abs_g,\n",
    "         idx_dose_rel_g & idx_cl_abs_g,\n",
    "         idx_dose_abs_g & idx_cl_rel_g,\n",
    "         idx_dose_rel_g & idx_cl_rel_g]\n",
    "for ax, inds in zip((ax1, ax2, ax3, ax4), dinds):\n",
    "    df = data[inds]\n",
    "    \n",
    "    for category in ccolors:\n",
    "        cf_filter = cateogry_filter[category]\n",
    "        df_category = filter_df(cf_filter,df)\n",
    "        x = df_category[\"value_intervention\"]\n",
    "        y = df_category[\"mean\"]\n",
    "        yerr = df_category[\"se\"]\n",
    "        #sns.distplot( y,ax =ax,color=ccolors[category],  label=f\"{category}({len(x)})\",kde_kws={'clip': (0.0,100000 )})\n",
    "\n",
    "        ax.errorbar(x, y,yerr=yerr,color=ccolors[category], fmt=markers[category],  label=f\"{category}({len(x)})\", alpha=0.7)\n",
    "        for i, txt in enumerate(df_category[('study', '')]):\n",
    "            ax.annotate(txt, (x.iloc[[i]],\n",
    "                              y.iloc[[i]]), alpha=0.7)\n",
    "    \n",
    "for ax in (ax1, ax2, ax3, ax4):\n",
    "    ax.set_ylim(bottom=0)\n",
    "    ax.legend()\n",
    "\n",
    "for ax in (ax1, ax2):\n",
    "    ax.set_title('Clearance')\n",
    "    ax.set_ylabel('caffeine clearance [ml/min]')\n",
    "    #ax.set_ylim([0, 300])\n",
    "    ax.set_ylim(bottom=0)\n",
    "\n",
    "    \n",
    "for ax in (ax3, ax4):\n",
    "    ax.set_ylabel('caffeine clearance [ml/min/kg]')\n",
    "    #ax.set_ylim([0, 5])\n",
    "    ax.set_ylim(bottom=0)\n",
    "\n",
    "for ax in (ax1, ax3):\n",
    "    #ax.set_xlim(0, 500)\n",
    "    ax.set_xlabel('caffeine dose [mg]')\n",
    "    ax.set_xlim(left=0)\n",
    "\n",
    "for ax in (ax2, ax4):\n",
    "    #ax.set_xlim(0, 11)\n",
    "    ax.set_xlim(left=0)\n",
    "\n",
    "    ax.set_xlabel('caffeine dose [mg/kg]')"
   ]
  },
  {
   "cell_type": "code",
   "execution_count": null,
   "metadata": {
    "collapsed": true
   },
   "outputs": [],
   "source": [
    "\n"
   ]
  },
  {
   "cell_type": "code",
   "execution_count": null,
   "metadata": {
    "collapsed": true
   },
   "outputs": [],
   "source": []
  }
 ],
 "metadata": {
  "kernelspec": {
   "display_name": "pkdb_analysis",
   "language": "python",
   "name": "pkdb_analysis"
  },
  "language_info": {
   "codemirror_mode": {
    "name": "ipython",
    "version": 3
   },
   "file_extension": ".py",
   "mimetype": "text/x-python",
   "name": "python",
   "nbconvert_exporter": "python",
   "pygments_lexer": "ipython3",
   "version": "3.6.7"
  }
 },
 "nbformat": 4,
 "nbformat_minor": 2
}
